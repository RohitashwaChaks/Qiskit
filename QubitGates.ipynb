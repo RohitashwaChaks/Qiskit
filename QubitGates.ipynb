{
 "cells": [
  {
   "cell_type": "code",
   "execution_count": null,
   "id": "narrow-chosen",
   "metadata": {},
   "outputs": [],
   "source": [
    "from qiskit import QuantumCircuit, assemble, Aer\n",
    "from qiskit.visualization import plot_histogram, plot_bloch_vector, plot_bloch_multivector\n",
    "from math import sqrt, pi\n",
    "# %matplotlib notebook"
   ]
  },
  {
   "cell_type": "code",
   "execution_count": null,
   "id": "lined-finland",
   "metadata": {},
   "outputs": [],
   "source": [
    "backend = Aer.get_backend('statevector_simulator') # Tell Qiskit how to simulate our circuit"
   ]
  },
  {
   "cell_type": "code",
   "execution_count": null,
   "id": "numerous-porter",
   "metadata": {},
   "outputs": [],
   "source": [
    "def ExecutePlot(job):\n",
    "    result = backend.run(job).result() # Do the simulation and return the result\n",
    "    out_state = result.get_statevector()\n",
    "    counts = result.get_counts()\n",
    "    print(\"StateVector: \",out_state) # Display the output state vector\n",
    "    blochVectors = plot_bloch_multivector(out_state)\n",
    "    histogram = plot_histogram(counts)\n",
    "    return blochVectors, histogram"
   ]
  },
  {
   "cell_type": "markdown",
   "id": "cutting-antenna",
   "metadata": {},
   "source": [
    "# Set Initial Vector\n",
    "\n",
    "We will be using This Qubit across All the gates to see their effect on the Qubit"
   ]
  },
  {
   "cell_type": "code",
   "execution_count": null,
   "id": "annual-berkeley",
   "metadata": {},
   "outputs": [],
   "source": [
    "# initial_state = [1,0]   # Define initial_state as |0>\n",
    "# initial_state = [0,1]   # Define initial_state as |1>\n",
    "# initial_state = [1/sqrt(2), 1j/sqrt(2)]  # Define state |q_0>\n",
    "initial_state = [sqrt(3)/2, 1j/2]  # Define state |q_0>\n",
    "# initial_state = [1/sqrt(3), 1j*sqrt(2/3)]  # Define state |q_0>\n",
    "# initial_state = [1j*1/sqrt(3), 1j*sqrt(2/3)]  # Define state |q_0>"
   ]
  },
  {
   "cell_type": "code",
   "execution_count": null,
   "id": "historical-struggle",
   "metadata": {},
   "outputs": [],
   "source": [
    "plot_bloch_multivector(initial_state)"
   ]
  },
  {
   "cell_type": "markdown",
   "id": "weekly-denver",
   "metadata": {},
   "source": [
    "# X Gate \n",
    "## Pauli-X Gate\n",
    "π Rotation about X-axis"
   ]
  },
  {
   "cell_type": "code",
   "execution_count": null,
   "id": "worth-recommendation",
   "metadata": {},
   "outputs": [],
   "source": [
    "circuit = QuantumCircuit(1)  # Create a quantum circuit with one qubit\n",
    "circuit.initialize(initial_state, 0) # Apply initialisation operation to the 0th qubit\n",
    "circuit.x(0)\n",
    "\n",
    "job = assemble(circuit)     # Create a JOB from the circuit for the simulator to run\n",
    "\n",
    "circuit.draw(\"mpl\")  # Let's view our circuit"
   ]
  },
  {
   "cell_type": "code",
   "execution_count": null,
   "id": "close-newport",
   "metadata": {},
   "outputs": [],
   "source": [
    "blochSphere, histogram = ExecutePlot(job)\n",
    "blochSphere"
   ]
  },
  {
   "cell_type": "markdown",
   "id": "median-martin",
   "metadata": {},
   "source": [
    "## Pauli-Y Gate\n",
    "π Rotation about Y-axis"
   ]
  },
  {
   "cell_type": "code",
   "execution_count": null,
   "id": "hourly-oxide",
   "metadata": {},
   "outputs": [],
   "source": [
    "circuit = QuantumCircuit(1)  # Create a quantum circuit with one qubit\n",
    "circuit.initialize(initial_state, 0) # Apply initialisation operation to the 0th qubit\n",
    "circuit.y(0)\n",
    "\n",
    "job = assemble(circuit)     # Create a JOB from the circuit for the simulator to run\n",
    "\n",
    "circuit.draw(\"mpl\")  # Let's view our circuit"
   ]
  },
  {
   "cell_type": "code",
   "execution_count": null,
   "id": "everyday-congo",
   "metadata": {},
   "outputs": [],
   "source": [
    "blochSphere, histogram = ExecutePlot(job)\n",
    "blochSphere"
   ]
  },
  {
   "cell_type": "markdown",
   "id": "attempted-compromise",
   "metadata": {},
   "source": [
    "## Pauli-Z Gate\n",
    "π Rotation about Z-axis"
   ]
  },
  {
   "cell_type": "code",
   "execution_count": null,
   "id": "grand-correction",
   "metadata": {},
   "outputs": [],
   "source": [
    "circuit = QuantumCircuit(1)  # Create a quantum circuit with one qubit\n",
    "circuit.initialize(initial_state, 0) # Apply initialisation operation to the 0th qubit\n",
    "circuit.z(0)\n",
    "\n",
    "job = assemble(circuit)     # Create a JOB from the circuit for the simulator to run\n",
    "\n",
    "circuit.draw(\"mpl\")  # Let's view our circuit"
   ]
  },
  {
   "cell_type": "code",
   "execution_count": null,
   "id": "finnish-beverage",
   "metadata": {},
   "outputs": [],
   "source": [
    "blochSphere, histogram = ExecutePlot(job)\n",
    "blochSphere"
   ]
  },
  {
   "cell_type": "markdown",
   "id": "classified-allah",
   "metadata": {},
   "source": [
    "# Hadamard Gate"
   ]
  },
  {
   "cell_type": "code",
   "execution_count": null,
   "id": "serial-print",
   "metadata": {},
   "outputs": [],
   "source": [
    "circuit = QuantumCircuit(1)  # Create a quantum circuit with one qubit\n",
    "circuit.initialize(initial_state, 0) # Apply initialisation operation to the 0th qubit\n",
    "circuit.h(0)\n",
    "\n",
    "job = assemble(circuit)     # Create a JOB from the circuit for the simulator to run\n",
    "\n",
    "circuit.draw(\"mpl\")  # Let's view our circuit"
   ]
  },
  {
   "cell_type": "code",
   "execution_count": null,
   "id": "continental-threshold",
   "metadata": {},
   "outputs": [],
   "source": [
    "blochSphere, histogram = ExecutePlot(job)\n",
    "blochSphere"
   ]
  },
  {
   "cell_type": "markdown",
   "id": "devoted-musician",
   "metadata": {},
   "source": [
    "# Rϕ-gates\n",
    "The Rϕ-gate is parametrised, that is, it needs a number (ϕ) to tell it exactly what to do. The Rϕ-gate performs a rotation of ϕ around the Z-axis direction (and as such is sometimes also known as the Rz-gate)."
   ]
  },
  {
   "cell_type": "code",
   "execution_count": null,
   "id": "temporal-production",
   "metadata": {},
   "outputs": [],
   "source": [
    "circuit = QuantumCircuit(1)  # Create a quantum circuit with one qubit\n",
    "circuit.initialize(initial_state, 0) # Apply initialisation operation to the 0th qubit\n",
    "circuit.rz(3*pi/2, 0)\n",
    "\n",
    "job = assemble(circuit)     # Create a JOB from the circuit for the simulator to run\n",
    "\n",
    "circuit.draw(\"mpl\")  # Let's view our circuit"
   ]
  },
  {
   "cell_type": "code",
   "execution_count": null,
   "id": "incorrect-mistake",
   "metadata": {},
   "outputs": [],
   "source": [
    "blochSphere, histogram = ExecutePlot(job)\n",
    "blochSphere"
   ]
  },
  {
   "cell_type": "markdown",
   "id": "psychological-premium",
   "metadata": {},
   "source": [
    "## S-gate\n",
    "The next gate to mention is the S-gate (sometimes known as the √Z-gate), this is an Rϕ-gate with ϕ = π/2. It does a quarter-turn around the Bloch sphere. It is important to note that unlike every gate introduced in this chapter so far, the S-gate is not its own inverse! As a result, you will often see the S†-gate, (also “S-dagger”, “Sdg” or √Z†-gate). The S†-gate is clearly an Rϕ-gate with ϕ = −π/2\n",
    "\n",
    "## T-gate \n",
    "The next gate to mention is the T-gate (sometimes known as the 4√Z-gate), this is an Rϕ-gate with ϕ = π/4. It does half-a-quarter-turn around the Bloch sphere. It is important to note that unlike every gate introduced in this chapter so far, the S-gate is not its own inverse! As a result, you will often see the T†-gate, (also “T-dagger”, “Tdg” or 4√Z†-gate). The T†-gate is clearly an Rϕ-gate with ϕ = −π/4\n",
    "\n",
    "\n",
    "# U-gates\n",
    "Generalised form of all single bit gates. All gates are converted to U Gates before processing. Thus these are also called *Physical Gates*\n",
    "\n",
    "\n",
    "\n",
    "#  Visualising Quantum Entaglement"
   ]
  },
  {
   "cell_type": "code",
   "execution_count": null,
   "id": "wrong-negotiation",
   "metadata": {},
   "outputs": [],
   "source": [
    "circuit = QuantumCircuit(2)  # Create a quantum circuit with one qubit\n",
    "circuit.initialize(initial_state, 0) # Apply initialisation operation to the 0th qubit\n",
    "circuit.x(0)\n",
    "circuit.h(0)\n",
    "circuit.cx(0,1)\n",
    "circuit.measure_all()\n",
    "\n",
    "job = assemble(circuit)     # Create a JOB from the circuit for the simulator to run\n",
    "\n",
    "circuit.draw(\"mpl\")  # Let's view our circuit"
   ]
  },
  {
   "cell_type": "code",
   "execution_count": null,
   "id": "english-briefing",
   "metadata": {},
   "outputs": [],
   "source": [
    "blochSphere, histogram = ExecutePlot(job)\n",
    "blochSphere"
   ]
  }
 ],
 "metadata": {
  "kernelspec": {
   "display_name": "Python 3",
   "language": "python",
   "name": "python3"
  },
  "language_info": {
   "codemirror_mode": {
    "name": "ipython",
    "version": 3
   },
   "file_extension": ".py",
   "mimetype": "text/x-python",
   "name": "python",
   "nbconvert_exporter": "python",
   "pygments_lexer": "ipython3",
   "version": "3.9.2"
  }
 },
 "nbformat": 4,
 "nbformat_minor": 5
}
